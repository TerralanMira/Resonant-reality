{
 "cells": [
  {
   "cell_type": "markdown",
   "metadata": {},
   "source": [
    "# Spiral Resonance — Interactive Notebook\n",
    "\n",
    "> The spiral is the hum made visible — micro oscillators aligning into macro coherence.\n",
    "\n",
    "This notebook mirrors `sims/spiral_resonance.py` but renders the animation **inline**.\n",
    "\n",
    "**Outputs**:\n",
    "- Inline animation preview (JS/HTML when supported)\n",
    "- Optional GIF saved to `sims/figures/spiral_resonance.gif`\n",
    "\n",
    "Run the cells top→bottom. No seaborn; plain matplotlib."
   ]
  },
  {
   "cell_type": "code",
   "execution_count": null,
   "metadata": {},
   "outputs": [],
   "source": [
    "# Imports\n",
    "import numpy as np\n",
    "import matplotlib.pyplot as plt\n",
    "import matplotlib.animation as animation\n",
    "from IPython.display import HTML, Image, display\n",
    "import os\n",
    "\n",
    "plt.rcParams['figure.figsize'] = (6,6)"
   ]
  },
  {
   "cell_type": "code",
   "execution_count": null,
   "metadata": {},
   "outputs": [],
   "source": [
    "# Parameters (you can tweak and rerun)\n",
    "N = 200           # number of oscillators\n",
    "steps = 400       # time steps\n",
    "K = 1.2           # coupling strength (↑ → faster lock)\n",
    "dt = 0.05         # time step\n",
    "seed = 0          # randomness control\n",
    "\n",
    "np.random.seed(seed)\n",
    "\n",
    "# Initial phases & natural frequencies\n",
    "theta = np.random.uniform(0, 2*np.pi, N)\n",
    "omega = np.random.normal(0.0, 0.5, N)\n",
    "\n",
    "# History for animation\n",
    "history = []\n",
    "\n",
    "def step():\n",
    "    global theta\n\",\n",
    "    # Kuramoto-like update (mean-field coupling)\n",
    "    coupling = K * np.imag(np.exp(1j*(theta[:,None]-theta[None,:]))).mean(axis=1)\n",
    "    theta = theta + (omega + coupling) * dt\n",
    "    history.append(theta.copy())\n",
    "\n",
    "# Run simulation\n",
    "for _ in range(steps):\n",
    "    step()\n",
    "\n",
    "len(history)"
   ]
  },
  {
   "cell_type": "code",
   "execution_count": null,
   "metadata": {},
   "outputs": [],
   "source": [
    "# Convert phase history to spiral coordinates over time\n",
    "x_hist, y_hist = [], []\n",
    "for t_idx, thetas in enumerate(history):\n",
    "    radius = 1 + t_idx/steps * 3.0   # outward spiral radius growth\n",
    "    x = radius * np.cos(thetas)\n",
    "    y = radius * np.sin(thetas)\n",
    "    x_hist.append(x)\n",
    "    y_hist.append(y)\n",
    "\n",
    "len(x_hist), len(y_hist)"
   ]
  },
  {
   "cell_type": "code",
   "execution_count": null,
   "metadata": {},
   "outputs": [],
   "source": [
    "# Build animation\n",
    "fig, ax = plt.subplots()\n",
    "ax.set_xlim(-5,5)\n",
    "ax.set_ylim(-5,5)\n",
    "ax.set_aspect('equal')\n",
    "ax.set_title('Spiral Resonance (micro → macro coherence)')\n",
    "scat = ax.scatter([], [], s=10, alpha=0.7)\n",
    "\n",
    "def animate(i):\n",
    "    scat.set_offsets(np.c_[x_hist[i], y_hist[i]])\n",
    "    return scat,\n",
    "\n",
    "ani = animation.FuncAnimation(fig, animate, frames=len(x_hist), interval=50, blit=True)\n",
    "plt.close(fig)  # prevent duplicate static rendering"
   ]
  },
  {
   "cell_type": "markdown",
   "metadata": {},
   "source": [
    "### Inline Preview\n",
    "Below, we try JS/HTML first (`to_jshtml()`), which plays directly in the notebook.\n",
    "If that isn't supported, we fall back to generating a GIF and showing it inline."
   ]
  },
  {
   "cell_type": "code",
   "execution_count": null,
   "metadata": {},
   "outputs": [],
   "source": [
    "# Try HTML preview (no external writer needed)\n",
    "try:\n",
    "    html = ani.to_jshtml()\n",
    "    display(HTML(html))\n",
    "    used_jshtml = True\n",
    "except Exception as e:\n",
    "    print('JS/HTML preview not available, falling back to GIF:', e)\n",
    "    used_jshtml = False"
   ]
  },
  {
   "cell_type": "markdown",
   "metadata": {},
   "source": [
    "### Optional: Save GIF (and preview)\n",
    "This requires the `pillow` package. The GIF will be stored under `sims/figures/`."
   ]
  },
  {
   "cell_type": "code",
   "execution_count": null,
   "metadata": {},
   "outputs": [],
   "source": [
    "if not used_jshtml:\n",
    "    os.makedirs('sims/figures', exist_ok=True)\n",
    "    out_path = 'sims/figures/spiral_resonance.gif'\n",
    "    try:\n",
    "        ani.save(out_path, writer='pillow', fps=20)\n",
    "        display(Image(filename=out_path))\n",
    "        print('Saved:', out_path)\n",
    "    except Exception as e:\n",
    "        print('Could not save GIF. Install pillow or run the .py script instead. Error:', e)\n",
    "else:\n",
    "    print('HTML preview displayed above. (You can still save a GIF by forcing the cell above to run with used_jshtml=False.)')"
   ]
  },
  {
   "cell_type": "markdown",
   "metadata": {},
   "source": [
    "## Notes\n",
    "- Adjust `K` (coupling) to see faster/slower coherence.\n",
    "- `steps` controls animation length; `N` controls node count.\n",
    "- The outward radius encodes the **micro → macro** growth while phases align.\n",
    "- To regenerate as a file without this notebook, run: `python sims/spiral_resonance.py`."
   ]
  }
 ],
 "metadata": {
  "kernelspec": {
   "display_name": "Python 3",
   "language": "python",
   "name": "python3"
  },
  "language_info": {
   "name": "python",
   "pygments_lexer": "ipython3"
  }
 },
 "nbformat": 4,
 "nbformat_minor": 5
}
